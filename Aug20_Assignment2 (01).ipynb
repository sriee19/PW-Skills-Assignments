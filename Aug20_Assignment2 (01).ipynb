{
 "cells": [
  {
   "cell_type": "markdown",
   "id": "cf9398fd",
   "metadata": {},
   "source": [
    "1.Write a program to reverse a string."
   ]
  },
  {
   "cell_type": "code",
   "execution_count": 2,
   "id": "9e5181b3",
   "metadata": {},
   "outputs": [
    {
     "name": "stdout",
     "output_type": "stream",
     "text": [
      "Enter a string: Sanjana\n",
      "Reversed string: anajnaS\n"
     ]
    }
   ],
   "source": [
    "def reverse_string(input_string):\n",
    "    reversed_string = input_string[::-1]\n",
    "    return reversed_string\n",
    "\n",
    "input_str = input(\"Enter a string: \")\n",
    "\n",
    "reversed_str = reverse_string(input_str)\n",
    "\n",
    "print(\"Reversed string:\", reversed_str)\n"
   ]
  },
  {
   "cell_type": "markdown",
   "id": "d47535b6",
   "metadata": {},
   "source": [
    "2. Check if a string is a palindrome."
   ]
  },
  {
   "cell_type": "code",
   "execution_count": 3,
   "id": "f29ddb11",
   "metadata": {},
   "outputs": [
    {
     "name": "stdout",
     "output_type": "stream",
     "text": [
      "Enter a string: Malayalam\n",
      "The input string is a palindrome.\n"
     ]
    }
   ],
   "source": [
    "def is_palindrome(input_string):\n",
    "    clean_string = input_string.lower().replace(\" \", \"\") \n",
    "    return clean_string == clean_string[::-1]\n",
    "\n",
    "input_str = input(\"Enter a string: \")\n",
    "\n",
    "if is_palindrome(input_str):\n",
    "    print(\"The input string is a palindrome.\")\n",
    "else:\n",
    "    print(\"The input string is not a palindrome.\")\n"
   ]
  },
  {
   "cell_type": "markdown",
   "id": "4ad5eccb",
   "metadata": {},
   "source": [
    "3. Convert a string to uppercase."
   ]
  },
  {
   "cell_type": "code",
   "execution_count": 4,
   "id": "8cd19157",
   "metadata": {},
   "outputs": [
    {
     "name": "stdout",
     "output_type": "stream",
     "text": [
      "Enter a string: pwskills\n",
      "Uppercase string: PWSKILLS\n"
     ]
    }
   ],
   "source": [
    "def convert_to_uppercase(input_string):\n",
    "    return input_string.upper()\n",
    "\n",
    "input_str = input(\"Enter a string: \")\n",
    "\n",
    "uppercase_str = convert_to_uppercase(input_str)\n",
    "\n",
    "print(\"Uppercase string:\", uppercase_str)\n"
   ]
  },
  {
   "cell_type": "markdown",
   "id": "df5dfad7",
   "metadata": {},
   "source": [
    "4. Convert a string to lowercase."
   ]
  },
  {
   "cell_type": "code",
   "execution_count": 5,
   "id": "17ff58b2",
   "metadata": {},
   "outputs": [
    {
     "name": "stdout",
     "output_type": "stream",
     "text": [
      "Enter a string: PWSKILLS\n",
      "Lowercase string: pwskills\n"
     ]
    }
   ],
   "source": [
    "def convert_to_lowercase(input_string):\n",
    "    return input_string.lower()\n",
    "\n",
    "input_str = input(\"Enter a string: \")\n",
    "\n",
    "lowercase_str = convert_to_lowercase(input_str)\n",
    "\n",
    "print(\"Lowercase string:\", lowercase_str)\n"
   ]
  },
  {
   "cell_type": "markdown",
   "id": "112cf40d",
   "metadata": {},
   "source": [
    "5. Count the number of vowels in a string."
   ]
  },
  {
   "cell_type": "code",
   "execution_count": 6,
   "id": "7fc650df",
   "metadata": {},
   "outputs": [
    {
     "name": "stdout",
     "output_type": "stream",
     "text": [
      "Enter a string: I am a student developer\n",
      "Number of vowels: 9\n"
     ]
    }
   ],
   "source": [
    "def count_vowels(input_string):\n",
    "    vowels = \"aeiouAEIOU\"\n",
    "    vowel_count = 0\n",
    "    for char in input_string:\n",
    "        if char in vowels:\n",
    "            vowel_count += 1\n",
    "    return vowel_count\n",
    "\n",
    "input_str = input(\"Enter a string: \")\n",
    "\n",
    "vowel_count = count_vowels(input_str)\n",
    "\n",
    "print(\"Number of vowels:\", vowel_count)\n"
   ]
  },
  {
   "cell_type": "markdown",
   "id": "4bfc613b",
   "metadata": {},
   "source": [
    "6. Count the number of consonants in a string."
   ]
  },
  {
   "cell_type": "code",
   "execution_count": 7,
   "id": "8f226e35",
   "metadata": {},
   "outputs": [
    {
     "name": "stdout",
     "output_type": "stream",
     "text": [
      "Enter a string: I am a student developer\n",
      "Number of consonants: 11\n"
     ]
    }
   ],
   "source": [
    "def count_consonants(input_string):\n",
    "    consonants = \"bcdfghjklmnpqrstvwxyzBCDFGHJKLMNPQRSTVWXYZ\"\n",
    "    consonant_count = 0\n",
    "    for char in input_string:\n",
    "        if char in consonants:\n",
    "            consonant_count += 1\n",
    "    return consonant_count\n",
    "\n",
    "input_str = input(\"Enter a string: \")\n",
    "\n",
    "consonant_count = count_consonants(input_str)\n",
    "\n",
    "print(\"Number of consonants:\", consonant_count)\n"
   ]
  },
  {
   "cell_type": "markdown",
   "id": "784c1aba",
   "metadata": {},
   "source": [
    "7. Remove all whitespaces from a string."
   ]
  },
  {
   "cell_type": "code",
   "execution_count": 8,
   "id": "d7195458",
   "metadata": {},
   "outputs": [
    {
     "name": "stdout",
     "output_type": "stream",
     "text": [
      "Enter a string: I am a student developer\n",
      "String without whitespaces: Iamastudentdeveloper\n"
     ]
    }
   ],
   "source": [
    "def remove_whitespaces(input_string):\n",
    "    return input_string.replace(\" \", \"\")\n",
    "\n",
    "input_str = input(\"Enter a string: \")\n",
    "\n",
    "no_whitespace_str = remove_whitespaces(input_str)\n",
    "\n",
    "print(\"String without whitespaces:\", no_whitespace_str)\n"
   ]
  },
  {
   "cell_type": "markdown",
   "id": "571ac0f2",
   "metadata": {},
   "source": [
    "8. Find the length of a string without using the `len()` function."
   ]
  },
  {
   "cell_type": "code",
   "execution_count": 9,
   "id": "da54c005",
   "metadata": {},
   "outputs": [
    {
     "name": "stdout",
     "output_type": "stream",
     "text": [
      "Enter a string: I am a student developer\n",
      "Length of the string: 24\n"
     ]
    }
   ],
   "source": [
    "def custom_len(input_string):\n",
    "    count = 0\n",
    "    for char in input_string:\n",
    "        count += 1\n",
    "    return count\n",
    "\n",
    "input_str = input(\"Enter a string: \")\n",
    "\n",
    "string_length = custom_len(input_str)\n",
    "\n",
    "print(\"Length of the string:\", string_length)\n"
   ]
  },
  {
   "cell_type": "markdown",
   "id": "84d9cc50",
   "metadata": {},
   "source": [
    "9. Check if a string contains a specific word."
   ]
  },
  {
   "cell_type": "code",
   "execution_count": 10,
   "id": "9c71f521",
   "metadata": {},
   "outputs": [
    {
     "name": "stdout",
     "output_type": "stream",
     "text": [
      "Enter a string: Data Science is great to learn.\n",
      "Enter the word to search for: great\n",
      "The input string contains the word.\n"
     ]
    }
   ],
   "source": [
    "def contains_word(input_string, word):\n",
    "    return word in input_string\n",
    "\n",
    "input_str = input(\"Enter a string: \")\n",
    "\n",
    "search_word = input(\"Enter the word to search for: \")\n",
    "\n",
    "if contains_word(input_str, search_word):\n",
    "    print(\"The input string contains the word.\")\n",
    "else:\n",
    "    print(\"The input string does not contain the word.\")\n"
   ]
  },
  {
   "cell_type": "markdown",
   "id": "2f01e81d",
   "metadata": {},
   "source": [
    "10. Replace a word in a string with another word."
   ]
  },
  {
   "cell_type": "code",
   "execution_count": 11,
   "id": "e377148b",
   "metadata": {},
   "outputs": [
    {
     "name": "stdout",
     "output_type": "stream",
     "text": [
      "Enter a string: I am a student developer\n",
      "Enter the word to replace: student\n",
      "Enter the new word: front end\n",
      "Modified string: I am a front end developer\n"
     ]
    }
   ],
   "source": [
    "def replace_word(input_string, old_word, new_word):\n",
    "    return input_string.replace(old_word, new_word)\n",
    "\n",
    "input_str = input(\"Enter a string: \")\n",
    "\n",
    "old_word = input(\"Enter the word to replace: \")\n",
    "\n",
    "new_word = input(\"Enter the new word: \")\n",
    "\n",
    "modified_str = replace_word(input_str, old_word, new_word)\n",
    "\n",
    "print(\"Modified string:\", modified_str)\n"
   ]
  },
  {
   "cell_type": "markdown",
   "id": "efd1e335",
   "metadata": {},
   "source": [
    "11.Count the occurrences of a word in a string."
   ]
  },
  {
   "cell_type": "code",
   "execution_count": 1,
   "id": "d2c5c256",
   "metadata": {},
   "outputs": [
    {
     "name": "stdout",
     "output_type": "stream",
     "text": [
      "Enter a string: I am a front end developer\n",
      "Enter the word to count: a\n",
      "Number of occurrences: 1\n"
     ]
    }
   ],
   "source": [
    "def count_word_occurrences(input_string, word):\n",
    "    words = input_string.split()\n",
    "    return words.count(word)\n",
    "\n",
    "input_str = input(\"Enter a string: \")\n",
    "\n",
    "target_word = input(\"Enter the word to count: \")\n",
    "\n",
    "occurrences = count_word_occurrences(input_str, target_word)\n",
    "\n",
    "print(\"Number of occurrences:\", occurrences)\n"
   ]
  },
  {
   "cell_type": "markdown",
   "id": "775f8a1f",
   "metadata": {},
   "source": [
    "12.Find the first occurrence of a word in a string"
   ]
  },
  {
   "cell_type": "code",
   "execution_count": 2,
   "id": "4ca98884",
   "metadata": {},
   "outputs": [
    {
     "name": "stdout",
     "output_type": "stream",
     "text": [
      "Enter a string: Find the first occurrence of a word in a string\n",
      "Enter the word to find: a\n",
      "First occurrence at index: 29\n"
     ]
    }
   ],
   "source": [
    "def find_first_occurrence(input_string, word):\n",
    "    return input_string.find(word)\n",
    "\n",
    "input_str = input(\"Enter a string: \")\n",
    "\n",
    "target_word = input(\"Enter the word to find: \")\n",
    "\n",
    "first_occurrence = find_first_occurrence(input_str, target_word)\n",
    "\n",
    "if first_occurrence != -1:\n",
    "    print(\"First occurrence at index:\", first_occurrence)\n",
    "else:\n",
    "    print(\"Word not found.\")\n"
   ]
  },
  {
   "cell_type": "markdown",
   "id": "00031766",
   "metadata": {},
   "source": [
    "13.Find the last occurrence of a word in a string"
   ]
  },
  {
   "cell_type": "code",
   "execution_count": 3,
   "id": "6928feac",
   "metadata": {},
   "outputs": [
    {
     "name": "stdout",
     "output_type": "stream",
     "text": [
      "Enter a string: Find the last occurrence of a word in a string\n",
      "Enter the word to find: a\n",
      "Last occurrence at index: 38\n"
     ]
    }
   ],
   "source": [
    "def find_last_occurrence(input_string, word):\n",
    "    return input_string.rfind(word)\n",
    "\n",
    "input_str = input(\"Enter a string: \")\n",
    "\n",
    "target_word = input(\"Enter the word to find: \")\n",
    "\n",
    "last_occurrence = find_last_occurrence(input_str, target_word)\n",
    "\n",
    "if last_occurrence != -1:\n",
    "    print(\"Last occurrence at index:\", last_occurrence)\n",
    "else:\n",
    "    print(\"Word not found.\")\n"
   ]
  },
  {
   "cell_type": "markdown",
   "id": "90d54798",
   "metadata": {},
   "source": [
    "14.Split a string into a list of words"
   ]
  },
  {
   "cell_type": "code",
   "execution_count": null,
   "id": "da34dcba",
   "metadata": {},
   "outputs": [],
   "source": [
    "def split_string(input_string):\n",
    "    return input_string.split()\n",
    "\n",
    "input_str = input(\"Enter a string: \")\n",
    "\n",
    "word_list = split_string(input_str)\n",
    "\n",
    "print(\"List of words:\", word_list)\n"
   ]
  },
  {
   "cell_type": "markdown",
   "id": "dc1750e1",
   "metadata": {},
   "source": [
    "15.Join a list of words into a string"
   ]
  },
  {
   "cell_type": "code",
   "execution_count": null,
   "id": "f731a725",
   "metadata": {},
   "outputs": [],
   "source": [
    "def join_words(word_list):\n",
    "    return \" \".join(word_list)\n",
    "\n",
    "word_list = input(\"Enter a list of words, separated by spaces: \").split()\n",
    "\n",
    "joined_string = join_words(word_list)\n",
    "\n",
    "print(\"Joined string:\", joined_string)\n"
   ]
  },
  {
   "cell_type": "markdown",
   "id": "b9d4c1e3",
   "metadata": {},
   "source": [
    "Convert a string where words are separated by spaces to one where words are separated by underscores"
   ]
  },
  {
   "cell_type": "code",
   "execution_count": 1,
   "id": "f66ed24f",
   "metadata": {},
   "outputs": [
    {
     "name": "stdout",
     "output_type": "stream",
     "text": [
      "Enter a string with spaces: Join a list of words into a string\n",
      "String with underscores: Join_a_list_of_words_into_a_string\n"
     ]
    }
   ],
   "source": [
    "def convert_spaces_to_underscores(input_string):\n",
    "    return input_string.replace(\" \", \"_\")\n",
    "\n",
    "input_str = input(\"Enter a string with spaces: \")\n",
    "\n",
    "underscored_string = convert_spaces_to_underscores(input_str)\n",
    "\n",
    "print(\"String with underscores:\", underscored_string)\n"
   ]
  },
  {
   "cell_type": "markdown",
   "id": "c5c54cb8",
   "metadata": {},
   "source": [
    "Check if a string starts with a specific word or phrase"
   ]
  },
  {
   "cell_type": "code",
   "execution_count": 2,
   "id": "af318ed8",
   "metadata": {},
   "outputs": [
    {
     "name": "stdout",
     "output_type": "stream",
     "text": [
      "Enter a string: Check if a string starts with a specific word or phrase\n",
      "Enter the prefix to check for: check\n",
      "The string does not start with the prefix.\n"
     ]
    }
   ],
   "source": [
    "def starts_with(input_string, prefix):\n",
    "    return input_string.startswith(prefix)\n",
    "\n",
    "input_str = input(\"Enter a string: \")\n",
    "\n",
    "prefix = input(\"Enter the prefix to check for: \")\n",
    "\n",
    "if starts_with(input_str, prefix):\n",
    "    print(\"The string starts with the prefix.\")\n",
    "else:\n",
    "    print(\"The string does not start with the prefix.\")\n"
   ]
  },
  {
   "cell_type": "markdown",
   "id": "77ac6d32",
   "metadata": {},
   "source": [
    "Check if a string ends with a specific word or phrase"
   ]
  },
  {
   "cell_type": "code",
   "execution_count": 4,
   "id": "ff8069d3",
   "metadata": {},
   "outputs": [
    {
     "name": "stdout",
     "output_type": "stream",
     "text": [
      "Enter a string: Check if a string ends with a specific word or phrase\n",
      "Enter the suffix to check for: phrase\n",
      "The string ends with the suffix.\n"
     ]
    }
   ],
   "source": [
    "def ends_with(input_string, suffix):\n",
    "    return input_string.endswith(suffix)\n",
    "\n",
    "input_str = input(\"Enter a string: \")\n",
    "\n",
    "suffix = input(\"Enter the suffix to check for: \")\n",
    "\n",
    "if ends_with(input_str, suffix):\n",
    "    print(\"The string ends with the suffix.\")\n",
    "else:\n",
    "    print(\"The string does not end with the suffix.\")\n"
   ]
  },
  {
   "cell_type": "markdown",
   "id": "7404ca99",
   "metadata": {},
   "source": [
    "Convert a string to title case"
   ]
  },
  {
   "cell_type": "code",
   "execution_count": 5,
   "id": "59d8d457",
   "metadata": {},
   "outputs": [
    {
     "name": "stdout",
     "output_type": "stream",
     "text": [
      "Enter a string: Convert a string to title case\n",
      "Title case string: Convert A String To Title Case\n"
     ]
    }
   ],
   "source": [
    "input_str = input(\"Enter a string: \")\n",
    "\n",
    "title_case_str = input_str.title()\n",
    "\n",
    "\n",
    "print(\"Title case string:\", title_case_str)\n"
   ]
  },
  {
   "cell_type": "markdown",
   "id": "732237e1",
   "metadata": {},
   "source": [
    "Find the longest word in a string"
   ]
  },
  {
   "cell_type": "code",
   "execution_count": 6,
   "id": "7222e195",
   "metadata": {},
   "outputs": [
    {
     "name": "stdout",
     "output_type": "stream",
     "text": [
      "Enter a string: Find the longest word in a string\n",
      "Longest word: longest\n"
     ]
    }
   ],
   "source": [
    "def find_longest_word(input_string):\n",
    "    words = input_string.split()\n",
    "    return max(words, key=len)\n",
    "\n",
    "input_str = input(\"Enter a string: \")\n",
    "\n",
    "longest_word = find_longest_word(input_str)\n",
    "\n",
    "print(\"Longest word:\", longest_word)\n"
   ]
  },
  {
   "cell_type": "markdown",
   "id": "ef918f5f",
   "metadata": {},
   "source": [
    "Find the shortest word in a string"
   ]
  },
  {
   "cell_type": "code",
   "execution_count": 7,
   "id": "c9a62310",
   "metadata": {},
   "outputs": [
    {
     "name": "stdout",
     "output_type": "stream",
     "text": [
      "Enter a string: Find the shortest word in a string\n",
      "Shortest word: a\n"
     ]
    }
   ],
   "source": [
    "def find_shortest_word(input_string):\n",
    "    words = input_string.split()\n",
    "    return min(words, key=len)\n",
    "\n",
    "input_str = input(\"Enter a string: \")\n",
    "\n",
    "shortest_word = find_shortest_word(input_str)\n",
    "\n",
    "print(\"Shortest word:\", shortest_word)\n"
   ]
  },
  {
   "cell_type": "markdown",
   "id": "7cf1bc74",
   "metadata": {},
   "source": [
    "Reverse the order of words in a string"
   ]
  },
  {
   "cell_type": "code",
   "execution_count": 8,
   "id": "f3dda881",
   "metadata": {},
   "outputs": [
    {
     "name": "stdout",
     "output_type": "stream",
     "text": [
      "Enter a string: Reverse the order of words in a string\n",
      "String with reversed word order: string a in words of order the Reverse\n"
     ]
    }
   ],
   "source": [
    "def reverse_words_order(input_string):\n",
    "    words = input_string.split()\n",
    "    reversed_words = ' '.join(reversed(words))\n",
    "    return reversed_words\n",
    "\n",
    "input_str = input(\"Enter a string: \")\n",
    "\n",
    "reversed_words_str = reverse_words_order(input_str)\n",
    "\n",
    "print(\"String with reversed word order:\", reversed_words_str)\n"
   ]
  },
  {
   "cell_type": "markdown",
   "id": "5d063242",
   "metadata": {},
   "source": [
    "Check if a string is alphanumeric"
   ]
  },
  {
   "cell_type": "code",
   "execution_count": 9,
   "id": "c7881ad0",
   "metadata": {},
   "outputs": [
    {
     "name": "stdout",
     "output_type": "stream",
     "text": [
      "Enter a string: 1as 3do 4the\n",
      "The string is not alphanumeric.\n"
     ]
    }
   ],
   "source": [
    "input_str = input(\"Enter a string: \")\n",
    "\n",
    "if input_str.isalnum():\n",
    "    print(\"The string is alphanumeric.\")\n",
    "else:\n",
    "    print(\"The string is not alphanumeric.\")\n"
   ]
  },
  {
   "cell_type": "markdown",
   "id": "51fa2526",
   "metadata": {},
   "source": [
    "Extract all digits from a string"
   ]
  },
  {
   "cell_type": "code",
   "execution_count": 10,
   "id": "4e063c99",
   "metadata": {},
   "outputs": [
    {
     "name": "stdout",
     "output_type": "stream",
     "text": [
      "Enter a string: 1as 3do 4the\n",
      "Extracted digits: 134\n"
     ]
    }
   ],
   "source": [
    "def extract_digits(input_string):\n",
    "    digits = ''.join(char for char in input_string if char.isdigit())\n",
    "    return digits\n",
    "\n",
    "input_str = input(\"Enter a string: \")\n",
    "\n",
    "digits = extract_digits(input_str)\n",
    "\n",
    "print(\"Extracted digits:\", digits)\n"
   ]
  },
  {
   "cell_type": "markdown",
   "id": "c0e726c3",
   "metadata": {},
   "source": [
    "Extract all alphabets from a string"
   ]
  },
  {
   "cell_type": "code",
   "execution_count": 11,
   "id": "a00344f0",
   "metadata": {},
   "outputs": [
    {
     "name": "stdout",
     "output_type": "stream",
     "text": [
      "Enter a string: 1as 3do 4the\n",
      "Extracted alphabets: asdothe\n"
     ]
    }
   ],
   "source": [
    "def extract_alphabets(input_string):\n",
    "    alphabets = ''.join(char for char in input_string if char.isalpha())\n",
    "    return alphabets\n",
    "\n",
    "input_str = input(\"Enter a string: \")\n",
    "\n",
    "alphabets = extract_alphabets(input_str)\n",
    "\n",
    "print(\"Extracted alphabets:\", alphabets)\n"
   ]
  },
  {
   "cell_type": "markdown",
   "id": "4b5b459d",
   "metadata": {},
   "source": [
    "Count the number of uppercase letters in a string"
   ]
  },
  {
   "cell_type": "code",
   "execution_count": 12,
   "id": "e49b10e6",
   "metadata": {},
   "outputs": [
    {
     "name": "stdout",
     "output_type": "stream",
     "text": [
      "Enter a string: Convert A String To Title Case\n",
      "Number of uppercase letters: 6\n"
     ]
    }
   ],
   "source": [
    "def count_uppercase(input_string):\n",
    "    uppercase_count = sum(1 for char in input_string if char.isupper())\n",
    "    return uppercase_count\n",
    "\n",
    "input_str = input(\"Enter a string: \")\n",
    "\n",
    "uppercase_count = count_uppercase(input_str)\n",
    "\n",
    "print(\"Number of uppercase letters:\", uppercase_count)\n"
   ]
  },
  {
   "cell_type": "markdown",
   "id": "9f9fc2ad",
   "metadata": {},
   "source": [
    "Count the number of lowercase letters in a string"
   ]
  },
  {
   "cell_type": "code",
   "execution_count": 13,
   "id": "54db8823",
   "metadata": {},
   "outputs": [
    {
     "name": "stdout",
     "output_type": "stream",
     "text": [
      "Enter a string: Convert A String To Title Case\n",
      "Number of lowercase letters: 19\n"
     ]
    }
   ],
   "source": [
    "def count_lowercase(input_string):\n",
    "    lowercase_count = sum(1 for char in input_string if char.islower())\n",
    "    return lowercase_count\n",
    "\n",
    "input_str = input(\"Enter a string: \")\n",
    "\n",
    "lowercase_count = count_lowercase(input_str)\n",
    "\n",
    "print(\"Number of lowercase letters:\", lowercase_count)\n"
   ]
  },
  {
   "cell_type": "markdown",
   "id": "c9806fdd",
   "metadata": {},
   "source": [
    "Swap the case of each character in a string"
   ]
  },
  {
   "cell_type": "code",
   "execution_count": 14,
   "id": "66313336",
   "metadata": {},
   "outputs": [
    {
     "name": "stdout",
     "output_type": "stream",
     "text": [
      "Enter a string: Convert A String To Title Case\n",
      "String with swapped case: cONVERT a sTRING tO tITLE cASE\n"
     ]
    }
   ],
   "source": [
    "input_str = input(\"Enter a string: \")\n",
    "\n",
    "swapped_str = input_str.swapcase()\n",
    "\n",
    "print(\"String with swapped case:\", swapped_str)\n"
   ]
  },
  {
   "cell_type": "markdown",
   "id": "5bec9d90",
   "metadata": {},
   "source": [
    "Remove a specific word from a string"
   ]
  },
  {
   "cell_type": "code",
   "execution_count": 15,
   "id": "c2e7e2fd",
   "metadata": {},
   "outputs": [
    {
     "name": "stdout",
     "output_type": "stream",
     "text": [
      "Enter a string: Remove a specific word from a string\n",
      "Enter the word to remove: specific\n",
      "Modified string: Remove a  word from a string\n"
     ]
    }
   ],
   "source": [
    "def remove_word(input_string, word_to_remove):\n",
    "    modified_string = input_string.replace(word_to_remove, \"\")\n",
    "    return modified_string\n",
    "\n",
    "input_str = input(\"Enter a string: \")\n",
    "\n",
    "word_to_remove = input(\"Enter the word to remove: \")\n",
    "\n",
    "modified_str = remove_word(input_str, word_to_remove)\n",
    "\n",
    "print(\"Modified string:\", modified_str)\n"
   ]
  },
  {
   "cell_type": "markdown",
   "id": "bbcfd2e5",
   "metadata": {},
   "source": [
    "Extract the username from an email address string"
   ]
  },
  {
   "cell_type": "code",
   "execution_count": 16,
   "id": "0f2a7a06",
   "metadata": {},
   "outputs": [
    {
     "name": "stdout",
     "output_type": "stream",
     "text": [
      "Enter an email address: sri@gmail.com\n",
      "Username: sri\n"
     ]
    }
   ],
   "source": [
    "def extract_username(email):\n",
    "    return email.split('@')[0]\n",
    "\n",
    "email_address = input(\"Enter an email address: \")\n",
    "\n",
    "username = extract_username(email_address)\n",
    "\n",
    "print(\"Username:\", username)\n"
   ]
  },
  {
   "cell_type": "markdown",
   "id": "1f5ef0b0",
   "metadata": {},
   "source": [
    "Extract the domain name from an email address string"
   ]
  },
  {
   "cell_type": "code",
   "execution_count": 17,
   "id": "35014dca",
   "metadata": {},
   "outputs": [
    {
     "name": "stdout",
     "output_type": "stream",
     "text": [
      "Enter an email address: sri@gmail.com\n",
      "Domain: gmail.com\n"
     ]
    }
   ],
   "source": [
    "def extract_domain(email):\n",
    "    return email.split('@')[1]\n",
    "\n",
    "email_address = input(\"Enter an email address: \")\n",
    "\n",
    "domain = extract_domain(email_address)\n",
    "\n",
    "print(\"Domain:\", domain)\n"
   ]
  },
  {
   "cell_type": "markdown",
   "id": "e88d96b5",
   "metadata": {},
   "source": [
    "Replace multiple spaces in a string with a single space"
   ]
  },
  {
   "cell_type": "code",
   "execution_count": 18,
   "id": "45e8bccb",
   "metadata": {},
   "outputs": [
    {
     "name": "stdout",
     "output_type": "stream",
     "text": [
      "Enter a string: Replace  multiple spaces  in a string  with a    single space\n",
      "Modified string: Replace multiple spaces in a string with a single space\n"
     ]
    }
   ],
   "source": [
    "def replace_multiple_spaces(input_string):\n",
    "    return ' '.join(input_string.split())\n",
    "\n",
    "input_str = input(\"Enter a string: \")\n",
    "\n",
    "modified_str = replace_multiple_spaces(input_str)\n",
    "\n",
    "print(\"Modified string:\", modified_str)\n"
   ]
  },
  {
   "cell_type": "markdown",
   "id": "c4cfb010",
   "metadata": {},
   "source": [
    "Check if a string is a valid URL"
   ]
  },
  {
   "cell_type": "code",
   "execution_count": 19,
   "id": "834708a4",
   "metadata": {},
   "outputs": [
    {
     "name": "stdout",
     "output_type": "stream",
     "text": [
      "Enter a URL: https://github.com/sriee19\n",
      "The URL is not valid.\n"
     ]
    }
   ],
   "source": [
    "import re\n",
    "\n",
    "def is_valid_url(url):\n",
    "    return re.match(r'^(https?://)?(www\\.)?\\w+\\.\\w+$', url)\n",
    "\n",
    "url = input(\"Enter a URL: \")\n",
    "\n",
    "if is_valid_url(url):\n",
    "    print(\"The URL is valid.\")\n",
    "else:\n",
    "    print(\"The URL is not valid.\")\n"
   ]
  },
  {
   "cell_type": "markdown",
   "id": "7d59735b",
   "metadata": {},
   "source": [
    "Extract the protocol (http or https) from a URL string"
   ]
  },
  {
   "cell_type": "code",
   "execution_count": 20,
   "id": "e27384fa",
   "metadata": {},
   "outputs": [
    {
     "name": "stdout",
     "output_type": "stream",
     "text": [
      "Enter a URL: https://github.com/sriee19\n",
      "Protocol: https\n"
     ]
    }
   ],
   "source": [
    "def extract_protocol(url):\n",
    "    if url.startswith(\"https\"):\n",
    "        return \"https\"\n",
    "    elif url.startswith(\"http\"):\n",
    "        return \"http\"\n",
    "    else:\n",
    "        return None\n",
    "url = input(\"Enter a URL: \")\n",
    "\n",
    "protocol = extract_protocol(url)\n",
    "\n",
    "if protocol:\n",
    "    print(\"Protocol:\", protocol)\n",
    "else:\n",
    "    print(\"Protocol not found.\")\n"
   ]
  },
  {
   "cell_type": "markdown",
   "id": "dbc0a0b9",
   "metadata": {},
   "source": [
    "Find the frequency of each character in a string"
   ]
  },
  {
   "cell_type": "code",
   "execution_count": 21,
   "id": "a77db76a",
   "metadata": {},
   "outputs": [
    {
     "name": "stdout",
     "output_type": "stream",
     "text": [
      "Enter a string: The uni has the best lib in the world\n",
      "'T': 1\n",
      "'h': 4\n",
      "'e': 4\n",
      "' ': 8\n",
      "'u': 1\n",
      "'n': 2\n",
      "'i': 3\n",
      "'a': 1\n",
      "'s': 2\n",
      "'t': 3\n",
      "'b': 2\n",
      "'l': 2\n",
      "'w': 1\n",
      "'o': 1\n",
      "'r': 1\n",
      "'d': 1\n"
     ]
    }
   ],
   "source": [
    "from collections import Counter\n",
    "\n",
    "input_str = input(\"Enter a string: \")\n",
    "\n",
    "char_frequency = Counter(input_str)\n",
    "\n",
    "for char, freq in char_frequency.items():\n",
    "    print(f\"'{char}': {freq}\")\n"
   ]
  },
  {
   "cell_type": "markdown",
   "id": "33d14f5c",
   "metadata": {},
   "source": [
    "Remove all punctuation from a string"
   ]
  },
  {
   "cell_type": "code",
   "execution_count": 22,
   "id": "3812d67e",
   "metadata": {},
   "outputs": [
    {
     "name": "stdout",
     "output_type": "stream",
     "text": [
      "Enter a string: The uni, has the. best ,lib in the world\n",
      "String without punctuation: The uni has the best lib in the world\n"
     ]
    }
   ],
   "source": [
    "import string\n",
    "\n",
    "def remove_punctuation(input_string):\n",
    "    translator = str.maketrans('', '', string.punctuation)\n",
    "    return input_string.translate(translator)\n",
    "\n",
    "input_str = input(\"Enter a string: \")\n",
    "\n",
    "cleaned_str = remove_punctuation(input_str)\n",
    "\n",
    "print(\"String without punctuation:\", cleaned_str)\n"
   ]
  },
  {
   "cell_type": "markdown",
   "id": "b2b60c18",
   "metadata": {},
   "source": [
    "Check if a string contains only digits"
   ]
  },
  {
   "cell_type": "code",
   "execution_count": 23,
   "id": "9b33592b",
   "metadata": {},
   "outputs": [
    {
     "name": "stdout",
     "output_type": "stream",
     "text": [
      "Enter a string: 1233456\n",
      "The string contains only digits.\n"
     ]
    }
   ],
   "source": [
    "input_str = input(\"Enter a string: \")\n",
    "\n",
    "if input_str.isdigit():\n",
    "    print(\"The string contains only digits.\")\n",
    "else:\n",
    "    print(\"The string does not contain only digits.\")\n"
   ]
  },
  {
   "cell_type": "markdown",
   "id": "6191d481",
   "metadata": {},
   "source": [
    "Check if a string contains only alphabets"
   ]
  },
  {
   "cell_type": "code",
   "execution_count": 24,
   "id": "0ed3557f",
   "metadata": {},
   "outputs": [
    {
     "name": "stdout",
     "output_type": "stream",
     "text": [
      "Enter a string: Check if a string contains only alphabets\n",
      "The string does not contain only alphabets.\n"
     ]
    }
   ],
   "source": [
    "input_str = input(\"Enter a string: \")\n",
    "\n",
    "if input_str.isalpha():\n",
    "    print(\"The string contains only alphabets.\")\n",
    "else:\n",
    "    print(\"The string does not contain only alphabets.\")\n"
   ]
  },
  {
   "cell_type": "markdown",
   "id": "0308a0c5",
   "metadata": {},
   "source": [
    "Convert a string to a list of characters"
   ]
  },
  {
   "cell_type": "code",
   "execution_count": 25,
   "id": "1eedc018",
   "metadata": {},
   "outputs": [
    {
     "name": "stdout",
     "output_type": "stream",
     "text": [
      "Enter a string: Convert a string to a list of characters\n",
      "List of characters: ['C', 'o', 'n', 'v', 'e', 'r', 't', ' ', 'a', ' ', 's', 't', 'r', 'i', 'n', 'g', ' ', 't', 'o', ' ', 'a', ' ', 'l', 'i', 's', 't', ' ', 'o', 'f', ' ', 'c', 'h', 'a', 'r', 'a', 'c', 't', 'e', 'r', 's']\n"
     ]
    }
   ],
   "source": [
    "input_str = input(\"Enter a string: \")\n",
    "\n",
    "char_list = list(input_str)\n",
    "\n",
    "print(\"List of characters:\", char_list)\n"
   ]
  },
  {
   "cell_type": "code",
   "execution_count": null,
   "id": "cb9b4043",
   "metadata": {},
   "outputs": [],
   "source": []
  }
 ],
 "metadata": {
  "kernelspec": {
   "display_name": "Python 3 (ipykernel)",
   "language": "python",
   "name": "python3"
  },
  "language_info": {
   "codemirror_mode": {
    "name": "ipython",
    "version": 3
   },
   "file_extension": ".py",
   "mimetype": "text/x-python",
   "name": "python",
   "nbconvert_exporter": "python",
   "pygments_lexer": "ipython3",
   "version": "3.10.7"
  }
 },
 "nbformat": 4,
 "nbformat_minor": 5
}
